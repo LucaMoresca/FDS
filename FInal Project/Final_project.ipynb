{
 "cells": [
  {
   "cell_type": "markdown",
   "metadata": {},
   "source": [
    "# Final Project Foundamentals of Data Science\n",
    "### Solar Eclipse phases classification\n",
    "---------\n",
    "-   **Titolo del progetto:** Classificazione delle fasi dell'eclissi solare \n",
    "-   **Autori:** Luca Moresca, Nicholas Suozzi, Valerio Santini\n",
    "-   **Descrizione del problema:** Fornire una breve panoramica del problema della classificazione delle fasi dell'eclissi solare. Evidenziare l'importanza dello studio delle eclissi solari per la comprensione dell'interazione tra Sole e Terra.\n",
    "-   **Obiettivo del progetto:** Definire chiaramente l'obiettivo del progetto, ovvero sviluppare un modello in grado di classificare accuratamente le diverse fasi di un'eclissi solare da immagini.\n"
   ]
  },
  {
   "cell_type": "markdown",
   "metadata": {},
   "source": [
    "### Abstract\n"
   ]
  },
  {
   "cell_type": "code",
   "execution_count": 1,
   "metadata": {},
   "outputs": [
    {
     "name": "stdout",
     "output_type": "stream",
     "text": [
      "Note: you may need to restart the kernel to use updated packages.\n"
     ]
    }
   ],
   "source": [
    "if True:\n",
    "    %pip install -qqq numpy scipy matplotlib pandas scikit-learn seaborn tqdm"
   ]
  },
  {
   "cell_type": "code",
   "execution_count": null,
   "metadata": {},
   "outputs": [],
   "source": [
    "%matplotlib inline\n",
    "import numpy as np # imports a fast numerical programming library\n",
    "import matplotlib.pyplot as plt # sets up plotting under plt\n",
    "import matplotlib.image as mpimg\n",
    "import pandas as pd # lets us handle data as dataframes\n",
    "import seaborn as sns\n",
    "from tqdm import tqdm\n",
    "from sklearn.model_selection import train_test_split\n",
    "from sklearn.preprocessing import StandardScaler\n",
    "from sklearn.linear_model import LogisticRegression\n",
    "from sklearn.metrics import accuracy_score\n",
    "from sklearn.metrics import confusion_matrix\n",
    "from sklearn.metrics import classification_report\n",
    "import os\n",
    "from pathlib import Path\n",
    "%load_ext autoreload\n",
    "%autoreload 2\n",
    "\n",
    "# sets up pandas table display\n",
    "pd.set_option('display.width', 500)\n",
    "pd.set_option('display.max_columns', 100)\n",
    "pd.set_option('display.notebook_repr_html', True)"
   ]
  },
  {
   "cell_type": "markdown",
   "metadata": {},
   "source": [
    "## 1. Analisi del dataset\n",
    "\n",
    "-   **Descrizione del dataset:** Descrivere il dataset di immagini di eclissi solare fornito in \"ProgettoFDS.pdf\", includendo il numero di immagini, le dimensioni delle immagini e le diverse classi di eclissi. [2, 3]\n",
    "-   Elencare le classi di eclissi con le relative etichette numeriche: [2]\n",
    "-   TotalSolarEclipse: 0\n",
    "-   0to25percentPartialEclipse: 1\n",
    "-   26to55percentPartialEclipse: 2\n",
    "-   56to95percentPartialEclipse: 3\n",
    "-   Darks: 4\n",
    "-   DiamondRing_BaileysBeads_SolarEclipse: 5\n",
    "-   Flats: 6\n",
    "-   NotASolarEclipse: 7\n",
    "-   **Visualizzazione del dataset:** Includere alcuni esempi di immagini dal dataset, mostrando le diverse fasi dell'eclissi."
   ]
  },
  {
   "cell_type": "markdown",
   "metadata": {},
   "source": [
    "The “Great American Eclipse” in 2017 offered a unique opportunity for US citizens across the entire continent to experience the awe-inspiring changes that occur during rare total solar eclipses (TSEs). The goal of the 2017 Eclipse Megamovie was to obtain enough pictures of the Great American Total Solar Eclipse to create a movie of the solar corona in order to better study it. Over 2,000 volunteers submitted 50,000 images and a movie was made only a few hours after the Moon's shadow left the U.S. A few months later another, better aligned and more closely edited, movie was released. The Eclipse Megamovie team of scientists processed images to create High Dynamic Range (HDR) images to capture the structures within the high dynamic range of the solar corona from the Sun's photosphere out ~3 solar radii.\n",
    "https://eclipsemegamovie.org\n",
    "\n",
    "Eclipse megamovie è un progetto che viene portato avanti da un gruppo di ricercatori in collaborazione con la NASA. Il punto centrale di tale progetto è quello di realizzare un video in grado di facilitare la ricerca su un evento raro come l'eclissi. Per realizzare questo progetto è stato chiesto ai cittadini americani di inviare fotografie scattate al sole durante l'eclissi. Il dataset contiene quindi immagini semi-professionali e amatoriali, scattate in condizioni non sempre ottimali. \n",
    "\n",
    "Eclipse megamovie is a project being carried out by a group of researchers in collaboration with NASA. The focus of this project is to make a video that can facilitate research into a rare event such as the eclipse that occurred in the United States in 2017. To realise this project, American citizens were asked to send in photographs taken during the eclipse. The dataset therefore contains semi-professional and amateur images, taken under conditions that are not always optimal."
   ]
  },
  {
   "cell_type": "markdown",
   "metadata": {},
   "source": []
  },
  {
   "cell_type": "code",
   "execution_count": null,
   "metadata": {},
   "outputs": [
    {
     "ename": "FileNotFoundError",
     "evalue": "[Errno 2] No such file or directory: '/Users/valeriosantini/Documents/GitHub/Corasoft-Unity/FDS/FInal Project/eclipse_megamovie/train/00a0f91f0e7ece88ebaeab2a2050cdc0d72c5ea0b56c601dfaf800077df44c51.jpg'",
     "output_type": "error",
     "traceback": [
      "\u001b[0;31m---------------------------------------------------------------------------\u001b[0m",
      "\u001b[0;31mFileNotFoundError\u001b[0m                         Traceback (most recent call last)",
      "Cell \u001b[0;32mIn[15], line 2\u001b[0m\n\u001b[1;32m      1\u001b[0m \u001b[38;5;66;03m# Carica le immagini (sostituisci con i tuoi file)\u001b[39;00m\n\u001b[0;32m----> 2\u001b[0m img1 \u001b[38;5;241m=\u001b[39m mpimg\u001b[38;5;241m.\u001b[39mimread(os\u001b[38;5;241m.\u001b[39mpath\u001b[38;5;241m.\u001b[39mabspath(\u001b[38;5;124m\"\u001b[39m\u001b[38;5;124meclipse_megamovie/train/00a0f91f0e7ece88ebaeab2a2050cdc0d72c5ea0b56c601dfaf800077df44c51.jpg\u001b[39m\u001b[38;5;124m\"\u001b[39m))\n\u001b[1;32m      3\u001b[0m img2 \u001b[38;5;241m=\u001b[39m mpimg\u001b[38;5;241m.\u001b[39mimread(\u001b[38;5;124m'\u001b[39m\u001b[38;5;124m/Users/valeriosantini/Desktop/eclipse-megamovie/train/00a4af4cc3f2a667c80331051a733e8dae2477d682d7dcef3e895f6f923dd86a.jpg\u001b[39m\u001b[38;5;124m'\u001b[39m)\n\u001b[1;32m      4\u001b[0m img3 \u001b[38;5;241m=\u001b[39m mpimg\u001b[38;5;241m.\u001b[39mimread(\u001b[38;5;124m'\u001b[39m\u001b[38;5;124m/Users/valeriosantini/Desktop/eclipse-megamovie/train/00c11b16fd6426a88039c8b27e2511e2e770b65e0eb9daab720d3e6ca996bc06.jpg\u001b[39m\u001b[38;5;124m'\u001b[39m)\n",
      "File \u001b[0;32m/opt/anaconda3/lib/python3.12/site-packages/matplotlib/image.py:1525\u001b[0m, in \u001b[0;36mimread\u001b[0;34m(fname, format)\u001b[0m\n\u001b[1;32m   1518\u001b[0m \u001b[38;5;28;01mif\u001b[39;00m \u001b[38;5;28misinstance\u001b[39m(fname, \u001b[38;5;28mstr\u001b[39m) \u001b[38;5;129;01mand\u001b[39;00m \u001b[38;5;28mlen\u001b[39m(parse\u001b[38;5;241m.\u001b[39murlparse(fname)\u001b[38;5;241m.\u001b[39mscheme) \u001b[38;5;241m>\u001b[39m \u001b[38;5;241m1\u001b[39m:\n\u001b[1;32m   1519\u001b[0m     \u001b[38;5;66;03m# Pillow doesn't handle URLs directly.\u001b[39;00m\n\u001b[1;32m   1520\u001b[0m     \u001b[38;5;28;01mraise\u001b[39;00m \u001b[38;5;167;01mValueError\u001b[39;00m(\n\u001b[1;32m   1521\u001b[0m         \u001b[38;5;124m\"\u001b[39m\u001b[38;5;124mPlease open the URL for reading and pass the \u001b[39m\u001b[38;5;124m\"\u001b[39m\n\u001b[1;32m   1522\u001b[0m         \u001b[38;5;124m\"\u001b[39m\u001b[38;5;124mresult to Pillow, e.g. with \u001b[39m\u001b[38;5;124m\"\u001b[39m\n\u001b[1;32m   1523\u001b[0m         \u001b[38;5;124m\"\u001b[39m\u001b[38;5;124m``np.array(PIL.Image.open(urllib.request.urlopen(url)))``.\u001b[39m\u001b[38;5;124m\"\u001b[39m\n\u001b[1;32m   1524\u001b[0m         )\n\u001b[0;32m-> 1525\u001b[0m \u001b[38;5;28;01mwith\u001b[39;00m img_open(fname) \u001b[38;5;28;01mas\u001b[39;00m image:\n\u001b[1;32m   1526\u001b[0m     \u001b[38;5;28;01mreturn\u001b[39;00m (_pil_png_to_float_array(image)\n\u001b[1;32m   1527\u001b[0m             \u001b[38;5;28;01mif\u001b[39;00m \u001b[38;5;28misinstance\u001b[39m(image, PIL\u001b[38;5;241m.\u001b[39mPngImagePlugin\u001b[38;5;241m.\u001b[39mPngImageFile) \u001b[38;5;28;01melse\u001b[39;00m\n\u001b[1;32m   1528\u001b[0m             pil_to_array(image))\n",
      "File \u001b[0;32m/opt/anaconda3/lib/python3.12/site-packages/PIL/Image.py:3277\u001b[0m, in \u001b[0;36mopen\u001b[0;34m(fp, mode, formats)\u001b[0m\n\u001b[1;32m   3274\u001b[0m     filename \u001b[38;5;241m=\u001b[39m os\u001b[38;5;241m.\u001b[39mpath\u001b[38;5;241m.\u001b[39mrealpath(os\u001b[38;5;241m.\u001b[39mfspath(fp))\n\u001b[1;32m   3276\u001b[0m \u001b[38;5;28;01mif\u001b[39;00m filename:\n\u001b[0;32m-> 3277\u001b[0m     fp \u001b[38;5;241m=\u001b[39m builtins\u001b[38;5;241m.\u001b[39mopen(filename, \u001b[38;5;124m\"\u001b[39m\u001b[38;5;124mrb\u001b[39m\u001b[38;5;124m\"\u001b[39m)\n\u001b[1;32m   3278\u001b[0m     exclusive_fp \u001b[38;5;241m=\u001b[39m \u001b[38;5;28;01mTrue\u001b[39;00m\n\u001b[1;32m   3280\u001b[0m \u001b[38;5;28;01mtry\u001b[39;00m:\n",
      "\u001b[0;31mFileNotFoundError\u001b[0m: [Errno 2] No such file or directory: '/Users/valeriosantini/Documents/GitHub/Corasoft-Unity/FDS/FInal Project/eclipse_megamovie/train/00a0f91f0e7ece88ebaeab2a2050cdc0d72c5ea0b56c601dfaf800077df44c51.jpg'"
     ]
    }
   ],
   "source": [
    "# Carica le immagini (sostituisci con i tuoi file)\n",
    "\n",
    "desktop_path = Path.home() / \"Desktop\"\n",
    "dataset_path = desktop_path / \"eclupse\"\n",
    "\n",
    "img1 = mpimg.imread('/Users/valeriosantini/Desktop/eclipse-megamovie/train/00a0f91f0e7ece88ebaeab2a2050cdc0d72c5ea0b56c601dfaf800077df44c51.jpg')\n",
    "img2 = mpimg.imread('/Users/valeriosantini/Desktop/eclipse-megamovie/train/00a4af4cc3f2a667c80331051a733e8dae2477d682d7dcef3e895f6f923dd86a.jpg')\n",
    "img3 = mpimg.imread('/Users/valeriosantini/Desktop/eclipse-megamovie/train/00c11b16fd6426a88039c8b27e2511e2e770b65e0eb9daab720d3e6ca996bc06.jpg')\n",
    "img4 = mpimg.imread('/Users/valeriosantini/Desktop/eclipse-megamovie/train/001e6704a60798684f1656713b593e6a56de81474e7173a31936589cd62f13e8.jpg')\n",
    "\n",
    "# Imposta una figura con sottotrame affiancate\n",
    "fig, axes = plt.subplots(1, 4, figsize=(16, 4))  # 1 riga, 4 colonne, dimensioni regolate\n",
    "fig.tight_layout(pad=3.0)  # Regola la spaziatura tra le immagini\n",
    "\n",
    "# Mostra ciascuna immagine in una sottotrama\n",
    "axes[0].imshow(img1)\n",
    "axes[0].set_title(\"Image 1\")\n",
    "axes[0].axis('off')  # Nasconde gli assi\n",
    "\n",
    "axes[1].imshow(img2)\n",
    "axes[1].set_title(\"Image 2\")\n",
    "axes[1].axis('off')\n",
    "\n",
    "axes[2].imshow(img3)\n",
    "axes[2].set_title(\"Image 3\")\n",
    "axes[2].axis('off')\n",
    "\n",
    "axes[3].imshow(img4)\n",
    "axes[3].set_title(\"Image 4\")\n",
    "axes[3].axis('off')\n",
    "\n",
    "# Mostra la griglia di immagini\n",
    "plt.show()\n"
   ]
  },
  {
   "cell_type": "code",
   "execution_count": null,
   "metadata": {},
   "outputs": [],
   "source": []
  },
  {
   "cell_type": "markdown",
   "metadata": {},
   "source": [
    "## 2. Preprocessing delle immagini\n",
    "\n",
    "-   **Spiegazioni:** Descrivere le tecniche di preprocessing delle immagini utilizzate, spiegando la logica alla base di ogni scelta.\n",
    "-   Ad esempio, se si ridimensionano le immagini, spiegare perché è necessario farlo e quale dimensione si è scelto di utilizzare.\n",
    "-   Se si convertono le immagini in scala di grigi, giustificare questa scelta.\n",
    "-   Se si normalizzano i valori dei pixel, spiegare il metodo di normalizzazione utilizzato e perché è importante.\n",
    "-   **Codice:** Fornire il codice Python utilizzato per il preprocessing delle immagini.\n",
    "-   **Visualizzazioni:** Mostrare alcuni esempi di immagini pre-elaborate, confrontandole con le immagini originali.\n",
    "\n",
    "\n",
    "### Suggerimenti per il Preprocessing delle Immagini per la Classificazione delle Fasi di Eclissi Solare\n",
    "\n",
    "Ecco alcuni suggerimenti per descrivere le tecniche di preprocessing delle immagini che potresti utilizzare per il tuo progetto di classificazione delle fasi di eclissi solare, insieme alla logica alla base di ogni scelta:\n",
    "\n",
    "*   **Conversione in scala di grigi:** La conversione delle immagini in scala di grigi è una scelta comune nel preprocessing delle immagini, soprattutto quando il colore non è una caratteristica discriminante per il compito in questione. Nel caso della classificazione delle fasi di eclissi solare, le informazioni di colore potrebbero non essere essenziali per distinguere le diverse fasi. La conversione in scala di grigi riduce la complessità dei dati e la quantità di informazioni da elaborare, il che può accelerare i tempi di addestramento del modello e potenzialmente migliorare le sue prestazioni.\n",
    "*   **Riduzione del rumore:** Le immagini possono contenere rumore che può influenzare negativamente le prestazioni del modello. La riduzione del rumore può essere realizzata utilizzando filtri come il filtro gaussiano.  Applicare un filtro gaussiano prima di altre operazioni di preprocessing può aiutare a migliorare la qualità delle immagini e a rendere più evidenti le caratteristiche importanti per la classificazione.\n",
    "*   **Downscaling:**  Se le immagini originali hanno una risoluzione molto alta, il downscaling può essere utile per ridurre la quantità di dati da elaborare e accelerare i tempi di addestramento. La dimensione da utilizzare dipenderà dalla risoluzione originale delle immagini e dalla complessità del modello. È importante scegliere una dimensione che conservi le caratteristiche essenziali per la classificazione, evitando al contempo di perdere troppe informazioni.  Assicurati di applicare un filtro gaussiano prima del downscaling per evitare l'aliasing. \n",
    "*   **Normalizzazione:** La normalizzazione dei valori dei pixel è un'altra tecnica comune nel preprocessing delle immagini.  Può essere eseguita sottraendo la media e dividendo per la deviazione standard dei valori dei pixel. Questo processo porta tutti i valori dei pixel in un intervallo simile, il che può aiutare a migliorare le prestazioni del modello, soprattutto quando si utilizzano algoritmi di apprendimento automatico sensibili alla scala dei dati.\n",
    "\n",
    "**Tecniche utili dagli homework:**\n",
    "\n",
    "*   **Dal Homework 1:** Tutte le tecniche elencate (riduzione del rumore, downscaling, normalizzazione e conversione in scala di grigi) possono essere utili per il tuo progetto.\n",
    "*   **Dal Homework 2:** La codifica one-hot sarà necessaria per le etichette delle fasi dell'eclissi. La gestione dei valori mancanti potrebbe essere utile se il tuo set di dati contiene immagini incomplete o danneggiate. L'espansione polinomiale e lo scaling potrebbero non essere necessari per il tuo progetto, in quanto sono tecniche più comunemente utilizzate per dati numerici non immagine.\n",
    "\n",
    "### Tecniche Essenziali di Preprocessing per Immagini di Eclissi Solari Variabili\n",
    "\n",
    "Dato che si ha a che fare con una vasta gamma di immagini scattate da amatori, che presentano diverse proporzioni, dimensioni del sole e posizioni del sole all'interno dell'immagine, è fondamentale applicare tecniche di preprocessing essenziali per preparare i dati per l'addestramento del modello di classificazione delle fasi dell'eclissi. \n",
    "\n",
    "Oltre alle tecniche di base già discusse (conversione in scala di grigi, riduzione del rumore, downscaling e normalizzazione), ecco alcune altre tecniche molto essenziali da considerare:\n",
    "\n",
    "*   **Ritaglio e ridimensionamento:** Le immagini potrebbero avere bordi o aree irrilevanti che non contribuiscono alla classificazione delle fasi dell'eclissi. Il ritaglio può essere utilizzato per rimuovere queste aree e focalizzare l'attenzione sulla regione di interesse, ovvero il sole e la corona solare. Dopo il ritaglio, tutte le immagini dovrebbero essere ridimensionate a una dimensione uniforme per garantire la compatibilità con il modello. Poiché le proporzioni delle immagini originali possono variare, è possibile utilizzare un ridimensionamento con padding per mantenere le proporzioni originali, aggiungendo bordi neri attorno all'immagine ritagliata per raggiungere la dimensione desiderata. \n",
    "*   **Centratura del Sole:** La posizione del sole all'interno dell'immagine può variare notevolmente. Per migliorare le prestazioni del modello, è utile centrare il sole in tutte le immagini. Ciò può essere ottenuto tramite algoritmi di rilevamento degli oggetti o, in casi più semplici, analizzando l'istogramma dell'immagine per identificare la regione più luminosa (presumibilmente il sole) e spostarla al centro dell'immagine.\n",
    "*   **Aumento dei dati:** Data la variabilità delle immagini, l'aumento dei dati può essere cruciale per migliorare la robustezza e la generalizzabilità del modello. Le tecniche di aumento includono:\n",
    "    *   **Rotazione:** Ruotare le immagini di angoli casuali per aumentare la varietà di orientamenti del sole.\n",
    "    *   **Ribaltamento:** Ribaltare le immagini orizzontalmente o verticalmente per simulare diverse prospettive.\n",
    "    *   **Luminosità/Contrasto:** Variare la luminosità e il contrasto delle immagini per simulare diverse condizioni di illuminazione.\n",
    "\n",
    "L'applicazione di queste tecniche di preprocessing contribuirà a creare un set di dati più uniforme e coerente, migliorando le prestazioni del modello di classificazione delle fasi dell'eclissi solare.\n",
    "\n"
   ]
  },
  {
   "cell_type": "markdown",
   "metadata": {},
   "source": [
    "## 3. Estrazione delle feature\n",
    "\n",
    "-   **Istogrammi:Spiegazioni:** Spiegare come gli istogrammi possono essere utilizzati per estrarre feature dalle immagini di eclissi solare. [1]\n",
    "-   Descrivere come la distribuzione dei pixel nell'istogramma può variare a seconda della fase dell'eclissi.\n",
    "-   **Codice:** Fornire il codice Python utilizzato per calcolare gli istogrammi.\n",
    "-   **Visualizzazioni:** Mostrare alcuni esempi di istogrammi per le diverse fasi dell'eclissi.\n",
    "-   **Altre tecniche (opzionale):** Se si utilizzano altre tecniche di estrazione delle feature, includere una sezione simile a quella degli istogrammi, spiegando e visualizzando i risultati."
   ]
  },
  {
   "cell_type": "markdown",
   "metadata": {},
   "source": [
    "## 4. Scelta e implementazione del modello\n",
    "\n",
    "-   **Modello scelto:** Indicare chiaramente il modello di classificazione scelto per il progetto (ad esempio, Regressione Logistica, Regressione Softmax, CNN). [4-6]\n",
    "-   Giustificare la scelta del modello in base alle caratteristiche del problema e del dataset.\n",
    "-   Fornire una breve descrizione teorica del modello scelto, evidenziandone i principi di funzionamento.\n",
    "-   **Codice:** Fornire il codice Python utilizzato per implementare il modello.\n",
    "-   Utilizzare le competenze acquisite durante la realizzazione di \"HomeWork.pdf\" per implementare il modello in modo efficiente. [7]\n",
    "-   Commentare il codice in modo chiaro per renderlo comprensibile.\n",
    "-   **Training del modello:Spiegazioni:** Descrivere la procedura di training del modello, specificando la funzione di loss, l'algoritmo di ottimizzazione e gli iperparametri utilizzati. [8-20]\n",
    "-   Spiegare come si è divisa il dataset in set di training e di test.\n",
    "-   **Codice:** Fornire il codice Python utilizzato per il training del modello.\n",
    "-   **Visualizzazioni:** Mostrare l'andamento della funzione di loss durante il training. [21-27]\n",
    "-   Plottare anche l'accuratezza sul set di training e sul set di test durante il training.\n"
   ]
  },
  {
   "cell_type": "markdown",
   "metadata": {},
   "source": [
    "## 5. Valutazione del modello\n",
    "\n",
    "-   **Spiegazioni:** Descrivere le metriche utilizzate per valutare le prestazioni del modello. [13, 28-32]\n",
    "-   Oltre all'accuratezza, considerare altre metriche come precisione, recall e F1-score, soprattutto se si ha uno sbilanciamento di classe.\n",
    "-   **Codice:** Fornire il codice Python utilizzato per calcolare le metriche di valutazione.\n",
    "-   **Risultati:** Presentare i risultati ottenuti dal modello sul set di test.\n",
    "-   Utilizzare tabelle e grafici per visualizzare i risultati in modo chiaro ed efficace.\n",
    "-   **Discussione:** Analizzare i risultati ottenuti, commentando le prestazioni del modello e le eventuali limitazioni."
   ]
  },
  {
   "cell_type": "markdown",
   "metadata": {},
   "source": [
    "## 6. Video delle transizioni dell'eclissi (opzionale) \n",
    "\n",
    "-   **Spiegazioni:** Descrivere il processo di creazione del video, includendo il software utilizzato e le scelte creative fatte.\n",
    "-   Spiegare come si sono selezionate le immagini per il video e come si è creata la sequenza di transizione.\n",
    "-   **Video:** Includere il video nel notebook Jupyter."
   ]
  },
  {
   "cell_type": "markdown",
   "metadata": {},
   "source": [
    "## 7. Conclusioni\n",
    "\n",
    "-   **Riepilogo:** Riassumere brevemente il lavoro svolto nel progetto.\n",
    "-   **Risultati principali:** Evidenziare i risultati più importanti ottenuti.\n",
    "-   **Sviluppi futuri:** Suggerire eventuali miglioramenti o sviluppi futuri del progetto."
   ]
  },
  {
   "cell_type": "markdown",
   "metadata": {},
   "source": []
  }
 ],
 "metadata": {
  "kernelspec": {
   "display_name": "Python 3",
   "language": "python",
   "name": "python3"
  },
  "language_info": {
   "codemirror_mode": {
    "name": "ipython",
    "version": 3
   },
   "file_extension": ".py",
   "mimetype": "text/x-python",
   "name": "python",
   "nbconvert_exporter": "python",
   "pygments_lexer": "ipython3",
   "version": "3.11.0"
  }
 },
 "nbformat": 4,
 "nbformat_minor": 2
}
